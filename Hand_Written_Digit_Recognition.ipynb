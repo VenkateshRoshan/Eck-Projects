{
  "nbformat": 4,
  "nbformat_minor": 0,
  "metadata": {
    "kernelspec": {
      "display_name": "Python 3",
      "language": "python",
      "name": "python3"
    },
    "language_info": {
      "codemirror_mode": {
        "name": "ipython",
        "version": 3
      },
      "file_extension": ".py",
      "mimetype": "text/x-python",
      "name": "python",
      "nbconvert_exporter": "python",
      "pygments_lexer": "ipython3",
      "version": "3.8.3"
    },
    "colab": {
      "name": "Hand Written Digit Recognition.ipynb",
      "provenance": [],
      "include_colab_link": true
    },
    "accelerator": "GPU"
  },
  "cells": [
    {
      "cell_type": "markdown",
      "metadata": {
        "id": "view-in-github",
        "colab_type": "text"
      },
      "source": [
        "<a href=\"https://colab.research.google.com/github/VenkateshRoshan/Eck-Projects/blob/main/Hand_Written_Digit_Recognition.ipynb\" target=\"_parent\"><img src=\"https://colab.research.google.com/assets/colab-badge.svg\" alt=\"Open In Colab\"/></a>"
      ]
    },
    {
      "cell_type": "code",
      "metadata": {
        "id": "UUiH_K3CQL6E"
      },
      "source": [
        "import matplotlib.pyplot as plt\n",
        "import numpy as np\n",
        "import tensorflow as tf\n",
        "from tensorflow.keras.datasets import mnist\n",
        "from sklearn.neural_network import MLPClassifier\n",
        "from sklearn import svm\n",
        "from sklearn.preprocessing import StandardScaler"
      ],
      "execution_count": 1,
      "outputs": []
    },
    {
      "cell_type": "code",
      "metadata": {
        "colab": {
          "base_uri": "https://localhost:8080/"
        },
        "id": "jBxPfZFNQL6Y",
        "outputId": "2e8a4872-2134-48eb-a120-27a01323c8e8"
      },
      "source": [
        "(X_train, y_train), (X_test, y_test) = mnist.load_data()\n",
        "X_train = X_train / 255.\n",
        "X_test =X_test / 255.\n",
        "X_train = X_train.reshape(60000,28*28)\n",
        "X_test = X_test.reshape(10000,28*28)\n",
        "print(X_train.shape,X_test.shape)"
      ],
      "execution_count": 2,
      "outputs": [
        {
          "output_type": "stream",
          "text": [
            "(60000, 784) (10000, 784)\n"
          ],
          "name": "stdout"
        }
      ]
    },
    {
      "cell_type": "markdown",
      "metadata": {
        "id": "oFAz4jzPQL6c"
      },
      "source": [
        "### using MLP classifier"
      ]
    },
    {
      "cell_type": "code",
      "metadata": {
        "scrolled": true,
        "colab": {
          "base_uri": "https://localhost:8080/"
        },
        "id": "NsIXwSFRQL6d",
        "outputId": "19ed727c-9c46-4551-9018-607c5951796f"
      },
      "source": [
        "MLP_clf = MLPClassifier(random_state=1, max_iter=10).fit(X_train, y_train)"
      ],
      "execution_count": 3,
      "outputs": [
        {
          "output_type": "stream",
          "text": [
            "/usr/local/lib/python3.7/dist-packages/sklearn/neural_network/_multilayer_perceptron.py:571: ConvergenceWarning: Stochastic Optimizer: Maximum iterations (10) reached and the optimization hasn't converged yet.\n",
            "  % self.max_iter, ConvergenceWarning)\n"
          ],
          "name": "stderr"
        }
      ]
    },
    {
      "cell_type": "code",
      "metadata": {
        "scrolled": true,
        "colab": {
          "base_uri": "https://localhost:8080/"
        },
        "id": "vM6DXBhnQL6f",
        "outputId": "b44b9b34-7143-4665-be8e-724ae1f38be9"
      },
      "source": [
        "MLP_clf.predict(X_test[1].reshape(1,-1))"
      ],
      "execution_count": 4,
      "outputs": [
        {
          "output_type": "execute_result",
          "data": {
            "text/plain": [
              "array([2], dtype=uint8)"
            ]
          },
          "metadata": {
            "tags": []
          },
          "execution_count": 4
        }
      ]
    },
    {
      "cell_type": "code",
      "metadata": {
        "scrolled": true,
        "colab": {
          "base_uri": "https://localhost:8080/",
          "height": 265
        },
        "id": "D0-D5F2FQL6g",
        "outputId": "781c3d55-1e0a-45d2-da73-aa2b92f015f2"
      },
      "source": [
        "plt.imshow(X_test[1].reshape(28,28))\n",
        "plt.show()"
      ],
      "execution_count": 5,
      "outputs": [
        {
          "output_type": "display_data",
          "data": {
            "image/png": "[encoded data removed]",
            "text/plain": [
              "<Figure size 432x288 with 1 Axes>"
            ]
          },
          "metadata": {
            "tags": [],
            "needs_background": "light"
          }
        }
      ]
    },
    {
      "cell_type": "code",
      "metadata": {
        "colab": {
          "base_uri": "https://localhost:8080/"
        },
        "id": "iiIs3cnDQL6h",
        "outputId": "55497ee4-a9f0-4c7b-ce0f-9cd20bce3ce0"
      },
      "source": [
        "c = 0\n",
        "for i in range(len(X_test)) :\n",
        "    if y_test[i] == MLP_clf.predict(X_test[i].reshape(1,-1))[0] :\n",
        "        c += 1\n",
        "print(c*100/len(y_test))\n",
        "mlp_ = (c*100)/len(y_test)"
      ],
      "execution_count": 6,
      "outputs": [
        {
          "output_type": "stream",
          "text": [
            "97.51\n"
          ],
          "name": "stdout"
        }
      ]
    },
    {
      "cell_type": "markdown",
      "metadata": {
        "id": "uRvoojGrQL6i"
      },
      "source": [
        "### using SVM classifier"
      ]
    },
    {
      "cell_type": "code",
      "metadata": {
        "id": "7HXWVKh2QL6j"
      },
      "source": [
        "svm_clf = svm.SVC().fit(X_train,y_train)"
      ],
      "execution_count": 7,
      "outputs": []
    },
    {
      "cell_type": "code",
      "metadata": {
        "colab": {
          "base_uri": "https://localhost:8080/"
        },
        "id": "lonTGRt2QL6k",
        "outputId": "97a1c4bb-73e3-4651-e98a-7bf2b8c0ff3a"
      },
      "source": [
        "svm_clf.predict(X_test[10].reshape(1,-1))"
      ],
      "execution_count": 8,
      "outputs": [
        {
          "output_type": "execute_result",
          "data": {
            "text/plain": [
              "array([0], dtype=uint8)"
            ]
          },
          "metadata": {
            "tags": []
          },
          "execution_count": 8
        }
      ]
    },
    {
      "cell_type": "code",
      "metadata": {
        "colab": {
          "base_uri": "https://localhost:8080/",
          "height": 265
        },
        "id": "AOFendvSQL6l",
        "outputId": "46daa699-f81f-4ab5-d388-26de0ed895ac"
      },
      "source": [
        "plt.imshow(X_test[10].reshape(28,28))\n",
        "plt.show()"
      ],
      "execution_count": 9,
      "outputs": [
        {
          "output_type": "display_data",
          "data": {
            "image/png": "[encoded data removed]",
            "text/plain": [
              "<Figure size 432x288 with 1 Axes>"
            ]
          },
          "metadata": {
            "tags": [],
            "needs_background": "light"
          }
        }
      ]
    },
    {
      "cell_type": "code",
      "metadata": {
        "colab": {
          "base_uri": "https://localhost:8080/"
        },
        "id": "QbZ09QS9QL6l",
        "outputId": "5a239f9b-3436-40d9-819d-47d6208b3f6c"
      },
      "source": [
        "c = 0\n",
        "for i in range(len(X_test)) :\n",
        "    if y_test[i] == svm_clf.predict(X_test[i].reshape(1,-1))[0] :\n",
        "        c += 1\n",
        "print(c*100/len(y_test))\n",
        "svm_ = (c*100)/len(y_test)"
      ],
      "execution_count": 10,
      "outputs": [
        {
          "output_type": "stream",
          "text": [
            "97.92\n"
          ],
          "name": "stdout"
        }
      ]
    },
    {
      "cell_type": "markdown",
      "metadata": {
        "id": "tLaph1fJQL6m"
      },
      "source": [
        "### using Perceptron"
      ]
    },
    {
      "cell_type": "code",
      "metadata": {
        "id": "sKt0NmRZQL6n"
      },
      "source": [
        "from sklearn.linear_model import Perceptron"
      ],
      "execution_count": 11,
      "outputs": []
    },
    {
      "cell_type": "code",
      "metadata": {
        "id": "YPUOVwNRQL6o"
      },
      "source": [
        "clf = Perceptron(tol=1e-3, random_state=0)"
      ],
      "execution_count": 12,
      "outputs": []
    },
    {
      "cell_type": "code",
      "metadata": {
        "colab": {
          "base_uri": "https://localhost:8080/"
        },
        "id": "RI6p8MHMQL6o",
        "outputId": "289c096d-9b43-4931-8089-0d1c619ccc22"
      },
      "source": [
        "clf.fit(X_train, y_train)"
      ],
      "execution_count": 13,
      "outputs": [
        {
          "output_type": "execute_result",
          "data": {
            "text/plain": [
              "Perceptron(alpha=0.0001, class_weight=None, early_stopping=False, eta0=1.0,\n",
              "           fit_intercept=True, max_iter=1000, n_iter_no_change=5, n_jobs=None,\n",
              "           penalty=None, random_state=0, shuffle=True, tol=0.001,\n",
              "           validation_fraction=0.1, verbose=0, warm_start=False)"
            ]
          },
          "metadata": {
            "tags": []
          },
          "execution_count": 13
        }
      ]
    },
    {
      "cell_type": "code",
      "metadata": {
        "colab": {
          "base_uri": "https://localhost:8080/"
        },
        "id": "VpAvTKQjQL6r",
        "outputId": "363a8d28-e88e-4284-a0f9-5d0343a0047c"
      },
      "source": [
        "clf.score(X_train, y_train)"
      ],
      "execution_count": 14,
      "outputs": [
        {
          "output_type": "execute_result",
          "data": {
            "text/plain": [
              "0.8853833333333333"
            ]
          },
          "metadata": {
            "tags": []
          },
          "execution_count": 14
        }
      ]
    },
    {
      "cell_type": "code",
      "metadata": {
        "id": "OAIQh6vUQL6s"
      },
      "source": [
        "per_ = clf.score(X_test,y_test)"
      ],
      "execution_count": 15,
      "outputs": []
    },
    {
      "cell_type": "markdown",
      "metadata": {
        "id": "ZedDwWiAQL6s"
      },
      "source": [
        "### Prediction Results"
      ]
    },
    {
      "cell_type": "code",
      "metadata": {
        "colab": {
          "base_uri": "https://localhost:8080/"
        },
        "id": "phrcOb01QL6t",
        "outputId": "e951742d-dea6-42e8-83d0-d47a72650bc7"
      },
      "source": [
        "print(f'MLP Classifier - {mlp_}')\n",
        "print(f'SVM Classifier - {svm_}')\n",
        "print(f'Perceptron - {per_}')"
      ],
      "execution_count": 16,
      "outputs": [
        {
          "output_type": "stream",
          "text": [
            "MLP Classifier - 97.51\n",
            "SVM Classifier - 97.92\n",
            "Perceptron - 0.8805\n"
          ],
          "name": "stdout"
        }
      ]
    },
    {
      "cell_type": "code",
      "metadata": {
        "id": "2uxGMqLSVNGE"
      },
      "source": [
        ""
      ],
      "execution_count": 16,
      "outputs": []
    }
  ]
}